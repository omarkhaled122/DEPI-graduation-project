{
  "metadata": {
    "kernelspec": {
      "language": "python",
      "display_name": "Python 3",
      "name": "python3"
    },
    "language_info": {
      "name": "python",
      "version": "3.7.12",
      "mimetype": "text/x-python",
      "codemirror_mode": {
        "name": "ipython",
        "version": 3
      },
      "pygments_lexer": "ipython3",
      "nbconvert_exporter": "python",
      "file_extension": ".py"
    },
    "kaggle": {
      "accelerator": "none",
      "dataSources": [
        {
          "sourceId": 320111,
          "sourceType": "datasetVersion",
          "datasetId": 134715
        }
      ],
      "dockerImageVersionId": 30170,
      "isInternetEnabled": false,
      "language": "python",
      "sourceType": "notebook",
      "isGpuEnabled": false
    },
    "colab": {
      "provenance": []
    }
  },
  "nbformat_minor": 0,
  "nbformat": 4,
  "cells": [
    {
      "cell_type": "code",
      "source": [
        "import numpy as np\n",
        "import pandas as pd\n",
        "import matplotlib.pyplot as plt\n",
        "import seaborn as sns"
      ],
      "metadata": {
        "_uuid": "8f2839f25d086af736a60e9eeb907d3b93b6e0e5",
        "_cell_guid": "b1076dfc-b9ad-4769-8c92-a6c4dae69d19",
        "execution": {
          "iopub.status.busy": "2024-10-13T20:07:55.481709Z",
          "iopub.execute_input": "2024-10-13T20:07:55.482143Z",
          "iopub.status.idle": "2024-10-13T20:07:56.604967Z",
          "shell.execute_reply.started": "2024-10-13T20:07:55.482030Z",
          "shell.execute_reply": "2024-10-13T20:07:56.604001Z"
        },
        "trusted": true,
        "id": "dVs_ZpG_n981"
      },
      "execution_count": null,
      "outputs": []
    },
    {
      "cell_type": "code",
      "source": [
        "import os\n",
        "for dirname, _, filenames in os.walk('/kaggle/input'):\n",
        "    for filename in filenames:\n",
        "        print(os.path.join(dirname, filename))"
      ],
      "metadata": {
        "_kg_hide-input": true,
        "execution": {
          "iopub.status.busy": "2024-10-13T20:07:56.607051Z",
          "iopub.execute_input": "2024-10-13T20:07:56.607433Z",
          "iopub.status.idle": "2024-10-13T20:07:56.618815Z",
          "shell.execute_reply.started": "2024-10-13T20:07:56.607382Z",
          "shell.execute_reply": "2024-10-13T20:07:56.617567Z"
        },
        "trusted": true,
        "id": "dHbk3lDKn982",
        "outputId": "67368de4-90e4-4574-e8df-33ef06e553e2"
      },
      "execution_count": null,
      "outputs": [
        {
          "name": "stdout",
          "text": "/kaggle/input/imdb-dataset-of-50k-movie-reviews/IMDB Dataset.csv\n",
          "output_type": "stream"
        }
      ]
    },
    {
      "cell_type": "markdown",
      "source": [
        "\n",
        "# 2. Preparing the data"
      ],
      "metadata": {
        "id": "caFkazSNn983"
      }
    },
    {
      "cell_type": "code",
      "source": [
        "df_review = pd.read_csv(\"/kaggle/input/imdb-dataset-of-50k-movie-reviews/IMDB Dataset.csv\")\n",
        "df_review"
      ],
      "metadata": {
        "execution": {
          "iopub.status.busy": "2024-10-13T20:07:56.620406Z",
          "iopub.execute_input": "2024-10-13T20:07:56.620748Z",
          "iopub.status.idle": "2024-10-13T20:07:58.420363Z",
          "shell.execute_reply.started": "2024-10-13T20:07:56.620701Z",
          "shell.execute_reply": "2024-10-13T20:07:58.419379Z"
        },
        "trusted": true,
        "id": "e2XSfZibn983",
        "outputId": "ef09f844-a5d7-4b19-e067-06347af7f832"
      },
      "execution_count": null,
      "outputs": [
        {
          "execution_count": 3,
          "output_type": "execute_result",
          "data": {
            "text/plain": "                                                  review sentiment\n0      One of the other reviewers has mentioned that ...  positive\n1      A wonderful little production. <br /><br />The...  positive\n2      I thought this was a wonderful way to spend ti...  positive\n3      Basically there's a family where a little boy ...  negative\n4      Petter Mattei's \"Love in the Time of Money\" is...  positive\n...                                                  ...       ...\n49995  I thought this movie did a down right good job...  positive\n49996  Bad plot, bad dialogue, bad acting, idiotic di...  negative\n49997  I am a Catholic taught in parochial elementary...  negative\n49998  I'm going to have to disagree with the previou...  negative\n49999  No one expects the Star Trek movies to be high...  negative\n\n[50000 rows x 2 columns]",
            "text/html": "<div>\n<style scoped>\n    .dataframe tbody tr th:only-of-type {\n        vertical-align: middle;\n    }\n\n    .dataframe tbody tr th {\n        vertical-align: top;\n    }\n\n    .dataframe thead th {\n        text-align: right;\n    }\n</style>\n<table border=\"1\" class=\"dataframe\">\n  <thead>\n    <tr style=\"text-align: right;\">\n      <th></th>\n      <th>review</th>\n      <th>sentiment</th>\n    </tr>\n  </thead>\n  <tbody>\n    <tr>\n      <th>0</th>\n      <td>One of the other reviewers has mentioned that ...</td>\n      <td>positive</td>\n    </tr>\n    <tr>\n      <th>1</th>\n      <td>A wonderful little production. &lt;br /&gt;&lt;br /&gt;The...</td>\n      <td>positive</td>\n    </tr>\n    <tr>\n      <th>2</th>\n      <td>I thought this was a wonderful way to spend ti...</td>\n      <td>positive</td>\n    </tr>\n    <tr>\n      <th>3</th>\n      <td>Basically there's a family where a little boy ...</td>\n      <td>negative</td>\n    </tr>\n    <tr>\n      <th>4</th>\n      <td>Petter Mattei's \"Love in the Time of Money\" is...</td>\n      <td>positive</td>\n    </tr>\n    <tr>\n      <th>...</th>\n      <td>...</td>\n      <td>...</td>\n    </tr>\n    <tr>\n      <th>49995</th>\n      <td>I thought this movie did a down right good job...</td>\n      <td>positive</td>\n    </tr>\n    <tr>\n      <th>49996</th>\n      <td>Bad plot, bad dialogue, bad acting, idiotic di...</td>\n      <td>negative</td>\n    </tr>\n    <tr>\n      <th>49997</th>\n      <td>I am a Catholic taught in parochial elementary...</td>\n      <td>negative</td>\n    </tr>\n    <tr>\n      <th>49998</th>\n      <td>I'm going to have to disagree with the previou...</td>\n      <td>negative</td>\n    </tr>\n    <tr>\n      <th>49999</th>\n      <td>No one expects the Star Trek movies to be high...</td>\n      <td>negative</td>\n    </tr>\n  </tbody>\n</table>\n<p>50000 rows × 2 columns</p>\n</div>"
          },
          "metadata": {}
        }
      ]
    },
    {
      "cell_type": "code",
      "source": [
        "df_positive = df_review[df_review['sentiment']=='positive'][:9000]\n",
        "df_negative = df_review[df_review['sentiment']=='negative'][:1000]\n",
        "\n",
        "df_review_imb = pd.concat([df_positive,df_negative ])"
      ],
      "metadata": {
        "execution": {
          "iopub.status.busy": "2024-10-13T20:07:58.422943Z",
          "iopub.execute_input": "2024-10-13T20:07:58.423312Z",
          "iopub.status.idle": "2024-10-13T20:07:58.460522Z",
          "shell.execute_reply.started": "2024-10-13T20:07:58.423245Z",
          "shell.execute_reply": "2024-10-13T20:07:58.459576Z"
        },
        "trusted": true,
        "id": "i6p92Anun984"
      },
      "execution_count": null,
      "outputs": []
    },
    {
      "cell_type": "code",
      "source": [
        "colors = sns.color_palette('deep')\n",
        "\n",
        "plt.figure(figsize=(8,4), tight_layout=True)\n",
        "plt.bar(x=['Positive', 'Negative'],\n",
        "        height=df_review_imb.value_counts(['sentiment']),\n",
        "        color=colors[:2])\n",
        "plt.title('Sentiment')\n",
        "plt.savefig('sentiment.png')\n",
        "plt.show()"
      ],
      "metadata": {
        "execution": {
          "iopub.status.busy": "2024-10-13T20:07:58.462050Z",
          "iopub.execute_input": "2024-10-13T20:07:58.462385Z",
          "iopub.status.idle": "2024-10-13T20:07:58.808504Z",
          "shell.execute_reply.started": "2024-10-13T20:07:58.462329Z",
          "shell.execute_reply": "2024-10-13T20:07:58.807400Z"
        },
        "trusted": true,
        "id": "vhAwtcIHn984",
        "outputId": "8c2cdbb2-0a8e-4238-ede5-111584dc47a5"
      },
      "execution_count": null,
      "outputs": [
        {
          "output_type": "display_data",
          "data": {
            "text/plain": "<Figure size 576x288 with 1 Axes>",
            "image/png": "[encoded data removed]"
          },
          "metadata": {}
        }
      ]
    },
    {
      "cell_type": "code",
      "source": [
        "from imblearn.under_sampling import RandomUnderSampler\n",
        "rus = RandomUnderSampler(random_state= 0)\n",
        "df_review_bal,df_review_bal['sentiment']=rus.fit_resample(df_review_imb[['review']],df_review_imb['sentiment'])\n",
        "\n",
        "\n",
        "df_review_bal"
      ],
      "metadata": {
        "execution": {
          "iopub.status.busy": "2024-10-13T20:07:58.810006Z",
          "iopub.execute_input": "2024-10-13T20:07:58.810375Z",
          "iopub.status.idle": "2024-10-13T20:07:59.398407Z",
          "shell.execute_reply.started": "2024-10-13T20:07:58.810321Z",
          "shell.execute_reply": "2024-10-13T20:07:59.397491Z"
        },
        "trusted": true,
        "id": "RxKo-rzhn984",
        "outputId": "5a80af62-4216-4de5-ab86-893075051344"
      },
      "execution_count": null,
      "outputs": [
        {
          "execution_count": 6,
          "output_type": "execute_result",
          "data": {
            "text/plain": "                                                 review sentiment\n0     Basically there's a family where a little boy ...  negative\n1     This show was an amazing, fresh & innovative i...  negative\n2     Encouraged by the positive comments about this...  negative\n3     Phil the Alien is one of those quirky films wh...  negative\n4     I saw this movie when I was about 12 when it c...  negative\n...                                                 ...       ...\n1995  Knute Rockne led an extraordinary life and his...  positive\n1996  At the height of the 'Celebrity Big Brother' r...  positive\n1997  This is another of Robert Altman's underrated ...  positive\n1998  This movie won a special award at Cannes for i...  positive\n1999  You'd be forgiven to think a Finnish director ...  positive\n\n[2000 rows x 2 columns]",
            "text/html": "<div>\n<style scoped>\n    .dataframe tbody tr th:only-of-type {\n        vertical-align: middle;\n    }\n\n    .dataframe tbody tr th {\n        vertical-align: top;\n    }\n\n    .dataframe thead th {\n        text-align: right;\n    }\n</style>\n<table border=\"1\" class=\"dataframe\">\n  <thead>\n    <tr style=\"text-align: right;\">\n      <th></th>\n      <th>review</th>\n      <th>sentiment</th>\n    </tr>\n  </thead>\n  <tbody>\n    <tr>\n      <th>0</th>\n      <td>Basically there's a family where a little boy ...</td>\n      <td>negative</td>\n    </tr>\n    <tr>\n      <th>1</th>\n      <td>This show was an amazing, fresh &amp; innovative i...</td>\n      <td>negative</td>\n    </tr>\n    <tr>\n      <th>2</th>\n      <td>Encouraged by the positive comments about this...</td>\n      <td>negative</td>\n    </tr>\n    <tr>\n      <th>3</th>\n      <td>Phil the Alien is one of those quirky films wh...</td>\n      <td>negative</td>\n    </tr>\n    <tr>\n      <th>4</th>\n      <td>I saw this movie when I was about 12 when it c...</td>\n      <td>negative</td>\n    </tr>\n    <tr>\n      <th>...</th>\n      <td>...</td>\n      <td>...</td>\n    </tr>\n    <tr>\n      <th>1995</th>\n      <td>Knute Rockne led an extraordinary life and his...</td>\n      <td>positive</td>\n    </tr>\n    <tr>\n      <th>1996</th>\n      <td>At the height of the 'Celebrity Big Brother' r...</td>\n      <td>positive</td>\n    </tr>\n    <tr>\n      <th>1997</th>\n      <td>This is another of Robert Altman's underrated ...</td>\n      <td>positive</td>\n    </tr>\n    <tr>\n      <th>1998</th>\n      <td>This movie won a special award at Cannes for i...</td>\n      <td>positive</td>\n    </tr>\n    <tr>\n      <th>1999</th>\n      <td>You'd be forgiven to think a Finnish director ...</td>\n      <td>positive</td>\n    </tr>\n  </tbody>\n</table>\n<p>2000 rows × 2 columns</p>\n</div>"
          },
          "metadata": {}
        }
      ]
    },
    {
      "cell_type": "markdown",
      "source": [
        "We can compare the imbalanced and balanced dataset with the following code."
      ],
      "metadata": {
        "id": "YtSa1zhQn984"
      }
    },
    {
      "cell_type": "code",
      "source": [
        "print(df_review_imb.value_counts('sentiment'))\n",
        "print(df_review_bal.value_counts('sentiment'))"
      ],
      "metadata": {
        "execution": {
          "iopub.status.busy": "2024-10-13T20:07:59.399753Z",
          "iopub.execute_input": "2024-10-13T20:07:59.400033Z",
          "iopub.status.idle": "2024-10-13T20:07:59.411558Z",
          "shell.execute_reply.started": "2024-10-13T20:07:59.399997Z",
          "shell.execute_reply": "2024-10-13T20:07:59.410505Z"
        },
        "trusted": true,
        "id": "GqeYnokAn984",
        "outputId": "3bb5e520-c526-46e3-8c26-b30bd7ea6e48"
      },
      "execution_count": null,
      "outputs": [
        {
          "name": "stdout",
          "text": "sentiment\npositive    9000\nnegative    1000\ndtype: int64\nsentiment\nnegative    1000\npositive    1000\ndtype: int64\n",
          "output_type": "stream"
        }
      ]
    },
    {
      "cell_type": "markdown",
      "source": [
        "\n",
        "## Splitting data into train and test set\n"
      ],
      "metadata": {
        "id": "0wkgPS63n985"
      }
    },
    {
      "cell_type": "code",
      "source": [
        "from sklearn.model_selection import train_test_split\n",
        "\n",
        "train,test = train_test_split(df_review_bal,test_size =0.33,random_state=42)"
      ],
      "metadata": {
        "execution": {
          "iopub.status.busy": "2024-10-13T20:07:59.412714Z",
          "iopub.execute_input": "2024-10-13T20:07:59.412955Z",
          "iopub.status.idle": "2024-10-13T20:07:59.425821Z",
          "shell.execute_reply.started": "2024-10-13T20:07:59.412924Z",
          "shell.execute_reply": "2024-10-13T20:07:59.424693Z"
        },
        "trusted": true,
        "id": "q8SyV83wn985"
      },
      "execution_count": null,
      "outputs": []
    },
    {
      "cell_type": "code",
      "source": [
        "train_x, train_y = train['review'], train['sentiment']\n",
        "test_x, test_y = test['review'], test['sentiment']"
      ],
      "metadata": {
        "execution": {
          "iopub.status.busy": "2024-10-13T20:07:59.427335Z",
          "iopub.execute_input": "2024-10-13T20:07:59.427722Z",
          "iopub.status.idle": "2024-10-13T20:07:59.438412Z",
          "shell.execute_reply.started": "2024-10-13T20:07:59.427675Z",
          "shell.execute_reply": "2024-10-13T20:07:59.437369Z"
        },
        "trusted": true,
        "id": "vUeK3m5Jn985"
      },
      "execution_count": null,
      "outputs": []
    },
    {
      "cell_type": "code",
      "source": [
        "train_y.value_counts()"
      ],
      "metadata": {
        "execution": {
          "iopub.status.busy": "2024-10-13T20:07:59.442532Z",
          "iopub.execute_input": "2024-10-13T20:07:59.442900Z",
          "iopub.status.idle": "2024-10-13T20:07:59.456379Z",
          "shell.execute_reply.started": "2024-10-13T20:07:59.442864Z",
          "shell.execute_reply": "2024-10-13T20:07:59.455168Z"
        },
        "trusted": true,
        "id": "pbeWMdczn985",
        "outputId": "b76d4df9-695a-40a0-c722-224869cefc17"
      },
      "execution_count": null,
      "outputs": [
        {
          "execution_count": 10,
          "output_type": "execute_result",
          "data": {
            "text/plain": "negative    675\npositive    665\nName: sentiment, dtype: int64"
          },
          "metadata": {}
        }
      ]
    },
    {
      "cell_type": "markdown",
      "source": [
        "\n",
        "# 3.Text Representation (Bag of words)\n"
      ],
      "metadata": {
        "id": "_KhlGubln985"
      }
    },
    {
      "cell_type": "code",
      "source": [
        "from sklearn.feature_extraction.text import TfidfVectorizer\n",
        "\n",
        "tfidf = TfidfVectorizer(stop_words='english')\n",
        "train_x_vector = tfidf.fit_transform(train_x)\n",
        "# also fit the test_x_vector\n",
        "test_x_vector = tfidf.transform(test_x)\n"
      ],
      "metadata": {
        "execution": {
          "iopub.status.busy": "2024-10-13T20:07:59.457777Z",
          "iopub.execute_input": "2024-10-13T20:07:59.458020Z",
          "iopub.status.idle": "2024-10-13T20:08:00.041430Z",
          "shell.execute_reply.started": "2024-10-13T20:07:59.457989Z",
          "shell.execute_reply": "2024-10-13T20:08:00.040566Z"
        },
        "trusted": true,
        "id": "a3-y_tpbn986"
      },
      "execution_count": null,
      "outputs": []
    },
    {
      "cell_type": "markdown",
      "source": [
        "Finally, let's also transform the test_x_vector, so we can test the accuracy of the model later"
      ],
      "metadata": {
        "id": "KEliAr3Wn986"
      }
    },
    {
      "cell_type": "code",
      "source": [
        "pd.DataFrame.sparse.from_spmatrix(train_x_vector,\n",
        "                                  index=train_x.index,\n",
        "                                  columns=tfidf.get_feature_names())"
      ],
      "metadata": {
        "execution": {
          "iopub.status.busy": "2024-10-13T20:08:00.042574Z",
          "iopub.execute_input": "2024-10-13T20:08:00.042823Z",
          "iopub.status.idle": "2024-10-13T20:08:01.073348Z",
          "shell.execute_reply.started": "2024-10-13T20:08:00.042792Z",
          "shell.execute_reply": "2024-10-13T20:08:01.072428Z"
        },
        "trusted": true,
        "id": "VahxU1Can986",
        "outputId": "81f83c9d-d735-4cc7-9073-d26548a59b66"
      },
      "execution_count": null,
      "outputs": [
        {
          "name": "stderr",
          "text": "/opt/conda/lib/python3.7/site-packages/sklearn/utils/deprecation.py:87: FutureWarning: Function get_feature_names is deprecated; get_feature_names is deprecated in 1.0 and will be removed in 1.2. Please use get_feature_names_out instead.\n  warnings.warn(msg, category=FutureWarning)\n",
          "output_type": "stream"
        },
        {
          "execution_count": 12,
          "output_type": "execute_result",
          "data": {
            "text/plain": "       00  000  007  01pm   02   04   08        10  100  1000  ...  zooming  \\\n81    0.0  0.0  0.0   0.0  0.0  0.0  0.0  0.000000  0.0   0.0  ...      0.0   \n915   0.0  0.0  0.0   0.0  0.0  0.0  0.0  0.000000  0.0   0.0  ...      0.0   \n1018  0.0  0.0  0.0   0.0  0.0  0.0  0.0  0.000000  0.0   0.0  ...      0.0   \n380   0.0  0.0  0.0   0.0  0.0  0.0  0.0  0.042791  0.0   0.0  ...      0.0   \n1029  0.0  0.0  0.0   0.0  0.0  0.0  0.0  0.000000  0.0   0.0  ...      0.0   \n...   ...  ...  ...   ...  ...  ...  ...       ...  ...   ...  ...      ...   \n1130  0.0  0.0  0.0   0.0  0.0  0.0  0.0  0.000000  0.0   0.0  ...      0.0   \n1294  0.0  0.0  0.0   0.0  0.0  0.0  0.0  0.000000  0.0   0.0  ...      0.0   \n860   0.0  0.0  0.0   0.0  0.0  0.0  0.0  0.000000  0.0   0.0  ...      0.0   \n1459  0.0  0.0  0.0   0.0  0.0  0.0  0.0  0.000000  0.0   0.0  ...      0.0   \n1126  0.0  0.0  0.0   0.0  0.0  0.0  0.0  0.000000  0.0   0.0  ...      0.0   \n\n      zooms  zues  zzzzzzzzzzzzzzzzzz  æon  élan  émigré  ísnt   ïn  \\\n81      0.0   0.0                 0.0  0.0   0.0     0.0   0.0  0.0   \n915     0.0   0.0                 0.0  0.0   0.0     0.0   0.0  0.0   \n1018    0.0   0.0                 0.0  0.0   0.0     0.0   0.0  0.0   \n380     0.0   0.0                 0.0  0.0   0.0     0.0   0.0  0.0   \n1029    0.0   0.0                 0.0  0.0   0.0     0.0   0.0  0.0   \n...     ...   ...                 ...  ...   ...     ...   ...  ...   \n1130    0.0   0.0                 0.0  0.0   0.0     0.0   0.0  0.0   \n1294    0.0   0.0                 0.0  0.0   0.0     0.0   0.0  0.0   \n860     0.0   0.0                 0.0  0.0   0.0     0.0   0.0  0.0   \n1459    0.0   0.0                 0.0  0.0   0.0     0.0   0.0  0.0   \n1126    0.0   0.0                 0.0  0.0   0.0     0.0   0.0  0.0   \n\n      ünfaithful  \n81           0.0  \n915          0.0  \n1018         0.0  \n380          0.0  \n1029         0.0  \n...          ...  \n1130         0.0  \n1294         0.0  \n860          0.0  \n1459         0.0  \n1126         0.0  \n\n[1340 rows x 20625 columns]",
            "text/html": "<div>\n<style scoped>\n    .dataframe tbody tr th:only-of-type {\n        vertical-align: middle;\n    }\n\n    .dataframe tbody tr th {\n        vertical-align: top;\n    }\n\n    .dataframe thead th {\n        text-align: right;\n    }\n</style>\n<table border=\"1\" class=\"dataframe\">\n  <thead>\n    <tr style=\"text-align: right;\">\n      <th></th>\n      <th>00</th>\n      <th>000</th>\n      <th>007</th>\n      <th>01pm</th>\n      <th>02</th>\n      <th>04</th>\n      <th>08</th>\n      <th>10</th>\n      <th>100</th>\n      <th>1000</th>\n      <th>...</th>\n      <th>zooming</th>\n      <th>zooms</th>\n      <th>zues</th>\n      <th>zzzzzzzzzzzzzzzzzz</th>\n      <th>æon</th>\n      <th>élan</th>\n      <th>émigré</th>\n      <th>ísnt</th>\n      <th>ïn</th>\n      <th>ünfaithful</th>\n    </tr>\n  </thead>\n  <tbody>\n    <tr>\n      <th>81</th>\n      <td>0.0</td>\n      <td>0.0</td>\n      <td>0.0</td>\n      <td>0.0</td>\n      <td>0.0</td>\n      <td>0.0</td>\n      <td>0.0</td>\n      <td>0.000000</td>\n      <td>0.0</td>\n      <td>0.0</td>\n      <td>...</td>\n      <td>0.0</td>\n      <td>0.0</td>\n      <td>0.0</td>\n      <td>0.0</td>\n      <td>0.0</td>\n      <td>0.0</td>\n      <td>0.0</td>\n      <td>0.0</td>\n      <td>0.0</td>\n      <td>0.0</td>\n    </tr>\n    <tr>\n      <th>915</th>\n      <td>0.0</td>\n      <td>0.0</td>\n      <td>0.0</td>\n      <td>0.0</td>\n      <td>0.0</td>\n      <td>0.0</td>\n      <td>0.0</td>\n      <td>0.000000</td>\n      <td>0.0</td>\n      <td>0.0</td>\n      <td>...</td>\n      <td>0.0</td>\n      <td>0.0</td>\n      <td>0.0</td>\n      <td>0.0</td>\n      <td>0.0</td>\n      <td>0.0</td>\n      <td>0.0</td>\n      <td>0.0</td>\n      <td>0.0</td>\n      <td>0.0</td>\n    </tr>\n    <tr>\n      <th>1018</th>\n      <td>0.0</td>\n      <td>0.0</td>\n      <td>0.0</td>\n      <td>0.0</td>\n      <td>0.0</td>\n      <td>0.0</td>\n      <td>0.0</td>\n      <td>0.000000</td>\n      <td>0.0</td>\n      <td>0.0</td>\n      <td>...</td>\n      <td>0.0</td>\n      <td>0.0</td>\n      <td>0.0</td>\n      <td>0.0</td>\n      <td>0.0</td>\n      <td>0.0</td>\n      <td>0.0</td>\n      <td>0.0</td>\n      <td>0.0</td>\n      <td>0.0</td>\n    </tr>\n    <tr>\n      <th>380</th>\n      <td>0.0</td>\n      <td>0.0</td>\n      <td>0.0</td>\n      <td>0.0</td>\n      <td>0.0</td>\n      <td>0.0</td>\n      <td>0.0</td>\n      <td>0.042791</td>\n      <td>0.0</td>\n      <td>0.0</td>\n      <td>...</td>\n      <td>0.0</td>\n      <td>0.0</td>\n      <td>0.0</td>\n      <td>0.0</td>\n      <td>0.0</td>\n      <td>0.0</td>\n      <td>0.0</td>\n      <td>0.0</td>\n      <td>0.0</td>\n      <td>0.0</td>\n    </tr>\n    <tr>\n      <th>1029</th>\n      <td>0.0</td>\n      <td>0.0</td>\n      <td>0.0</td>\n      <td>0.0</td>\n      <td>0.0</td>\n      <td>0.0</td>\n      <td>0.0</td>\n      <td>0.000000</td>\n      <td>0.0</td>\n      <td>0.0</td>\n      <td>...</td>\n      <td>0.0</td>\n      <td>0.0</td>\n      <td>0.0</td>\n      <td>0.0</td>\n      <td>0.0</td>\n      <td>0.0</td>\n      <td>0.0</td>\n      <td>0.0</td>\n      <td>0.0</td>\n      <td>0.0</td>\n    </tr>\n    <tr>\n      <th>...</th>\n      <td>...</td>\n      <td>...</td>\n      <td>...</td>\n      <td>...</td>\n      <td>...</td>\n      <td>...</td>\n      <td>...</td>\n      <td>...</td>\n      <td>...</td>\n      <td>...</td>\n      <td>...</td>\n      <td>...</td>\n      <td>...</td>\n      <td>...</td>\n      <td>...</td>\n      <td>...</td>\n      <td>...</td>\n      <td>...</td>\n      <td>...</td>\n      <td>...</td>\n      <td>...</td>\n    </tr>\n    <tr>\n      <th>1130</th>\n      <td>0.0</td>\n      <td>0.0</td>\n      <td>0.0</td>\n      <td>0.0</td>\n      <td>0.0</td>\n      <td>0.0</td>\n      <td>0.0</td>\n      <td>0.000000</td>\n      <td>0.0</td>\n      <td>0.0</td>\n      <td>...</td>\n      <td>0.0</td>\n      <td>0.0</td>\n      <td>0.0</td>\n      <td>0.0</td>\n      <td>0.0</td>\n      <td>0.0</td>\n      <td>0.0</td>\n      <td>0.0</td>\n      <td>0.0</td>\n      <td>0.0</td>\n    </tr>\n    <tr>\n      <th>1294</th>\n      <td>0.0</td>\n      <td>0.0</td>\n      <td>0.0</td>\n      <td>0.0</td>\n      <td>0.0</td>\n      <td>0.0</td>\n      <td>0.0</td>\n      <td>0.000000</td>\n      <td>0.0</td>\n      <td>0.0</td>\n      <td>...</td>\n      <td>0.0</td>\n      <td>0.0</td>\n      <td>0.0</td>\n      <td>0.0</td>\n      <td>0.0</td>\n      <td>0.0</td>\n      <td>0.0</td>\n      <td>0.0</td>\n      <td>0.0</td>\n      <td>0.0</td>\n    </tr>\n    <tr>\n      <th>860</th>\n      <td>0.0</td>\n      <td>0.0</td>\n      <td>0.0</td>\n      <td>0.0</td>\n      <td>0.0</td>\n      <td>0.0</td>\n      <td>0.0</td>\n      <td>0.000000</td>\n      <td>0.0</td>\n      <td>0.0</td>\n      <td>...</td>\n      <td>0.0</td>\n      <td>0.0</td>\n      <td>0.0</td>\n      <td>0.0</td>\n      <td>0.0</td>\n      <td>0.0</td>\n      <td>0.0</td>\n      <td>0.0</td>\n      <td>0.0</td>\n      <td>0.0</td>\n    </tr>\n    <tr>\n      <th>1459</th>\n      <td>0.0</td>\n      <td>0.0</td>\n      <td>0.0</td>\n      <td>0.0</td>\n      <td>0.0</td>\n      <td>0.0</td>\n      <td>0.0</td>\n      <td>0.000000</td>\n      <td>0.0</td>\n      <td>0.0</td>\n      <td>...</td>\n      <td>0.0</td>\n      <td>0.0</td>\n      <td>0.0</td>\n      <td>0.0</td>\n      <td>0.0</td>\n      <td>0.0</td>\n      <td>0.0</td>\n      <td>0.0</td>\n      <td>0.0</td>\n      <td>0.0</td>\n    </tr>\n    <tr>\n      <th>1126</th>\n      <td>0.0</td>\n      <td>0.0</td>\n      <td>0.0</td>\n      <td>0.0</td>\n      <td>0.0</td>\n      <td>0.0</td>\n      <td>0.0</td>\n      <td>0.000000</td>\n      <td>0.0</td>\n      <td>0.0</td>\n      <td>...</td>\n      <td>0.0</td>\n      <td>0.0</td>\n      <td>0.0</td>\n      <td>0.0</td>\n      <td>0.0</td>\n      <td>0.0</td>\n      <td>0.0</td>\n      <td>0.0</td>\n      <td>0.0</td>\n      <td>0.0</td>\n    </tr>\n  </tbody>\n</table>\n<p>1340 rows × 20625 columns</p>\n</div>"
          },
          "metadata": {}
        }
      ]
    },
    {
      "cell_type": "markdown",
      "source": [
        "\n",
        "##  Support Vector Machine(SVM)\n"
      ],
      "metadata": {
        "id": "uLMd9Hjhn986"
      }
    },
    {
      "cell_type": "code",
      "source": [
        "from sklearn.svm import SVC\n",
        "svc = SVC(kernel='linear')\n",
        "svc.fit(train_x_vector, train_y)"
      ],
      "metadata": {
        "execution": {
          "iopub.status.busy": "2024-10-13T20:08:01.074580Z",
          "iopub.execute_input": "2024-10-13T20:08:01.074839Z",
          "iopub.status.idle": "2024-10-13T20:08:02.830418Z",
          "shell.execute_reply.started": "2024-10-13T20:08:01.074807Z",
          "shell.execute_reply": "2024-10-13T20:08:02.829294Z"
        },
        "trusted": true,
        "id": "7fBK05FYn986",
        "outputId": "2c836741-f8dd-4cf9-84cb-790374aafc6a"
      },
      "execution_count": null,
      "outputs": [
        {
          "execution_count": 13,
          "output_type": "execute_result",
          "data": {
            "text/plain": "SVC(kernel='linear')"
          },
          "metadata": {}
        }
      ]
    },
    {
      "cell_type": "code",
      "source": [
        "print(svc.predict(tfidf.transform(['A good movie'])))\n",
        "print(svc.predict(tfidf.transform(['An excellent movie'])))\n",
        "print(svc.predict(tfidf.transform(['I did not like this movie at all I gave this movie away'])))"
      ],
      "metadata": {
        "execution": {
          "iopub.status.busy": "2024-10-13T20:08:02.831707Z",
          "iopub.execute_input": "2024-10-13T20:08:02.832051Z",
          "iopub.status.idle": "2024-10-13T20:08:02.848249Z",
          "shell.execute_reply.started": "2024-10-13T20:08:02.832001Z",
          "shell.execute_reply": "2024-10-13T20:08:02.847103Z"
        },
        "trusted": true,
        "id": "c8YuEr0Ln986",
        "outputId": "fe3d0978-e5d9-42d1-9a5f-3d9f5ee047aa"
      },
      "execution_count": null,
      "outputs": [
        {
          "name": "stdout",
          "text": "['positive']\n['positive']\n['negative']\n",
          "output_type": "stream"
        }
      ]
    },
    {
      "cell_type": "markdown",
      "source": [
        "\n",
        "## Decision Tree\n"
      ],
      "metadata": {
        "id": "EiXsUgkan987"
      }
    },
    {
      "cell_type": "code",
      "source": [
        "from sklearn.tree import DecisionTreeClassifier\n",
        "\n",
        "dec_tree = DecisionTreeClassifier()\n",
        "dec_tree.fit(train_x_vector, train_y)"
      ],
      "metadata": {
        "execution": {
          "iopub.status.busy": "2024-10-13T20:08:02.849955Z",
          "iopub.execute_input": "2024-10-13T20:08:02.850347Z",
          "iopub.status.idle": "2024-10-13T20:08:03.306740Z",
          "shell.execute_reply.started": "2024-10-13T20:08:02.850283Z",
          "shell.execute_reply": "2024-10-13T20:08:03.305645Z"
        },
        "trusted": true,
        "id": "5N6cTAwLn987",
        "outputId": "93c263a3-d432-4406-d771-93edda045933"
      },
      "execution_count": null,
      "outputs": [
        {
          "execution_count": 15,
          "output_type": "execute_result",
          "data": {
            "text/plain": "DecisionTreeClassifier()"
          },
          "metadata": {}
        }
      ]
    },
    {
      "cell_type": "markdown",
      "source": [
        "\n",
        "## Naive Bayes\n"
      ],
      "metadata": {
        "id": "QnIfaKLLn987"
      }
    },
    {
      "cell_type": "code",
      "source": [
        "from sklearn.naive_bayes import GaussianNB\n",
        "gnb = GaussianNB()\n",
        "gnb.fit(train_x_vector.toarray(), train_y)"
      ],
      "metadata": {
        "execution": {
          "iopub.status.busy": "2024-10-13T20:08:03.308141Z",
          "iopub.execute_input": "2024-10-13T20:08:03.308503Z",
          "iopub.status.idle": "2024-10-13T20:08:04.019231Z",
          "shell.execute_reply.started": "2024-10-13T20:08:03.308454Z",
          "shell.execute_reply": "2024-10-13T20:08:04.018144Z"
        },
        "trusted": true,
        "id": "DXsy8HXun987",
        "outputId": "c8f5fe52-5a0f-450d-cc26-a93e36888664"
      },
      "execution_count": null,
      "outputs": [
        {
          "execution_count": 16,
          "output_type": "execute_result",
          "data": {
            "text/plain": "GaussianNB()"
          },
          "metadata": {}
        }
      ]
    },
    {
      "cell_type": "markdown",
      "source": [
        "\n",
        "## Logistic Regression\n"
      ],
      "metadata": {
        "id": "6SAaOEpRn987"
      }
    },
    {
      "cell_type": "code",
      "source": [
        "from sklearn.linear_model import LogisticRegression\n",
        "\n",
        "log_reg = LogisticRegression()\n",
        "log_reg.fit(train_x_vector,train_y)"
      ],
      "metadata": {
        "execution": {
          "iopub.status.busy": "2024-10-13T20:08:04.020736Z",
          "iopub.execute_input": "2024-10-13T20:08:04.021068Z",
          "iopub.status.idle": "2024-10-13T20:08:04.221536Z",
          "shell.execute_reply.started": "2024-10-13T20:08:04.021019Z",
          "shell.execute_reply": "2024-10-13T20:08:04.220393Z"
        },
        "trusted": true,
        "id": "pcR9MRR3n987",
        "outputId": "5865f2dc-b505-4797-a957-bbe5043ec6f9"
      },
      "execution_count": null,
      "outputs": [
        {
          "execution_count": 17,
          "output_type": "execute_result",
          "data": {
            "text/plain": "LogisticRegression()"
          },
          "metadata": {}
        }
      ]
    },
    {
      "cell_type": "markdown",
      "source": [
        "\n",
        "# 5. Model Evaluation\n"
      ],
      "metadata": {
        "id": "Jeh8D8Jpn987"
      }
    },
    {
      "cell_type": "markdown",
      "source": [
        "## Mean Accuracy"
      ],
      "metadata": {
        "id": "KSB7Ii8Cn988"
      }
    },
    {
      "cell_type": "code",
      "source": [
        "print(svc.score(test_x_vector, test_y))\n",
        "print(dec_tree.score(test_x_vector, test_y))\n",
        "print(gnb.score(test_x_vector.toarray(), test_y))\n",
        "print(log_reg.score(test_x_vector, test_y))"
      ],
      "metadata": {
        "execution": {
          "iopub.status.busy": "2024-10-13T20:08:04.223661Z",
          "iopub.execute_input": "2024-10-13T20:08:04.224646Z",
          "iopub.status.idle": "2024-10-13T20:08:05.419120Z",
          "shell.execute_reply.started": "2024-10-13T20:08:04.224578Z",
          "shell.execute_reply": "2024-10-13T20:08:05.418015Z"
        },
        "trusted": true,
        "id": "WEag6Vqvn988",
        "outputId": "5c1b50fd-9fe3-4a16-dd32-64f2b0a04432"
      },
      "execution_count": null,
      "outputs": [
        {
          "name": "stdout",
          "text": "0.8409090909090909\n0.6484848484848484\n0.6348484848484849\n0.8303030303030303\n",
          "output_type": "stream"
        }
      ]
    },
    {
      "cell_type": "markdown",
      "source": [
        "SVM and Logistic Regression perform better than the other two classifiers, with SVM having a slight advantage (84% of accuracy).Thus,we’ll focus only on SVM."
      ],
      "metadata": {
        "id": "nIux6Itln988"
      }
    },
    {
      "cell_type": "markdown",
      "source": [
        "## F1 Score\n",
        "\n",
        "F1 Score is the weighted average of Precision and Recall. Accuracy is used when the True Positives and True negatives are more important while F1-score is used when the False Negatives and False Positives are crucial. Also, F1 takes into account how the data is distributed, so it’s useful when you have data with imbalance classes."
      ],
      "metadata": {
        "id": "raBm6JScn988"
      }
    },
    {
      "cell_type": "code",
      "source": [
        "from sklearn.metrics import f1_score\n",
        "\n",
        "f1_score(test_y,svc.predict(test_x_vector),\n",
        "          labels = ['positive','negative'],average=None)"
      ],
      "metadata": {
        "execution": {
          "iopub.status.busy": "2024-10-13T20:08:05.420499Z",
          "iopub.execute_input": "2024-10-13T20:08:05.420844Z",
          "iopub.status.idle": "2024-10-13T20:08:06.227135Z",
          "shell.execute_reply.started": "2024-10-13T20:08:05.420806Z",
          "shell.execute_reply": "2024-10-13T20:08:06.226053Z"
        },
        "trusted": true,
        "id": "qCTKDvLln988",
        "outputId": "ce8f67c3-99e3-40ae-b3af-8bc7b890c554"
      },
      "execution_count": null,
      "outputs": [
        {
          "execution_count": 19,
          "output_type": "execute_result",
          "data": {
            "text/plain": "array([0.84671533, 0.83464567])"
          },
          "metadata": {}
        }
      ]
    },
    {
      "cell_type": "markdown",
      "source": [
        "## Classification report"
      ],
      "metadata": {
        "id": "CEIOuSFJn989"
      }
    },
    {
      "cell_type": "code",
      "source": [
        "from sklearn.metrics import classification_report\n",
        "\n",
        "print(classification_report(test_y,\n",
        "                            svc.predict(test_x_vector),\n",
        "                            labels = ['positive','negative']))"
      ],
      "metadata": {
        "execution": {
          "iopub.status.busy": "2024-10-13T20:08:06.228570Z",
          "iopub.execute_input": "2024-10-13T20:08:06.228894Z",
          "iopub.status.idle": "2024-10-13T20:08:07.019678Z",
          "shell.execute_reply.started": "2024-10-13T20:08:06.228853Z",
          "shell.execute_reply": "2024-10-13T20:08:07.018524Z"
        },
        "trusted": true,
        "id": "jDtFmDHEn989",
        "outputId": "74948457-4655-4646-e9f2-e434ec0f479b"
      },
      "execution_count": null,
      "outputs": [
        {
          "name": "stdout",
          "text": "              precision    recall  f1-score   support\n\n    positive       0.83      0.87      0.85       335\n    negative       0.85      0.82      0.83       325\n\n    accuracy                           0.84       660\n   macro avg       0.84      0.84      0.84       660\nweighted avg       0.84      0.84      0.84       660\n\n",
          "output_type": "stream"
        }
      ]
    },
    {
      "cell_type": "code",
      "source": [
        "from sklearn.metrics import confusion_matrix\n",
        "\n",
        "conf_mat = confusion_matrix(test_y,\n",
        "                           svc.predict(test_x_vector),\n",
        "                           labels = ['positive', 'negative'])\n",
        "conf_mat"
      ],
      "metadata": {
        "execution": {
          "iopub.status.busy": "2024-10-13T20:08:07.020946Z",
          "iopub.execute_input": "2024-10-13T20:08:07.021215Z",
          "iopub.status.idle": "2024-10-13T20:08:07.779781Z",
          "shell.execute_reply.started": "2024-10-13T20:08:07.021180Z",
          "shell.execute_reply": "2024-10-13T20:08:07.778820Z"
        },
        "trusted": true,
        "id": "SJINmowCn989",
        "outputId": "74df9914-3de6-423d-fc73-329bcf627dae"
      },
      "execution_count": null,
      "outputs": [
        {
          "execution_count": 21,
          "output_type": "execute_result",
          "data": {
            "text/plain": "array([[290,  45],\n       [ 60, 265]])"
          },
          "metadata": {}
        }
      ]
    },
    {
      "cell_type": "markdown",
      "source": [
        "\n",
        "# 6. Tuning the Model\n"
      ],
      "metadata": {
        "id": "7TVXY-yyn989"
      }
    },
    {
      "cell_type": "code",
      "source": [
        "from sklearn.model_selection import GridSearchCV\n",
        "#set the parameters\n",
        "params = {'C': [1,4,8,16,32], 'kernel' : ['linear','rbf']}\n",
        "svc = SVC()\n",
        "svc_grid = GridSearchCV(svc,params, cv = 5)\n",
        "svc_grid.fit(train_x_vector, train_y)"
      ],
      "metadata": {
        "execution": {
          "iopub.status.busy": "2024-10-13T20:08:07.780969Z",
          "iopub.execute_input": "2024-10-13T20:08:07.781313Z",
          "iopub.status.idle": "2024-10-13T20:09:20.886467Z",
          "shell.execute_reply.started": "2024-10-13T20:08:07.781273Z",
          "shell.execute_reply": "2024-10-13T20:09:20.885546Z"
        },
        "trusted": true,
        "id": "TvvyEC8rn989",
        "outputId": "9b18c6d5-809c-4e69-c73c-3e1510f84330"
      },
      "execution_count": null,
      "outputs": [
        {
          "execution_count": 22,
          "output_type": "execute_result",
          "data": {
            "text/plain": "GridSearchCV(cv=5, estimator=SVC(),\n             param_grid={'C': [1, 4, 8, 16, 32], 'kernel': ['linear', 'rbf']})"
          },
          "metadata": {}
        }
      ]
    },
    {
      "cell_type": "code",
      "source": [
        "print(svc_grid.best_params_)\n",
        "print(svc_grid.best_estimator_)"
      ],
      "metadata": {
        "execution": {
          "iopub.status.busy": "2024-10-13T20:09:20.887769Z",
          "iopub.execute_input": "2024-10-13T20:09:20.888043Z",
          "iopub.status.idle": "2024-10-13T20:09:20.893952Z",
          "shell.execute_reply.started": "2024-10-13T20:09:20.888008Z",
          "shell.execute_reply": "2024-10-13T20:09:20.893051Z"
        },
        "trusted": true,
        "id": "6uP7Dg-Cn989",
        "outputId": "4b153e7a-c664-4566-eed4-ed32d290df33"
      },
      "execution_count": null,
      "outputs": [
        {
          "name": "stdout",
          "text": "{'C': 1, 'kernel': 'linear'}\nSVC(C=1, kernel='linear')\n",
          "output_type": "stream"
        }
      ]
    },
    {
      "cell_type": "markdown",
      "source": [
        "# Saving Model"
      ],
      "metadata": {
        "id": "ZnbyHH81n98-"
      }
    },
    {
      "cell_type": "code",
      "source": [
        "import pickle\n",
        "\n",
        "# Save the model\n",
        "with open('svc_model.pkl', 'wb') as file:\n",
        "    pickle.dump(svc, file)\n",
        "\n",
        "# Save the vectorizer\n",
        "with open('tfidf_vectorizer.pkl', 'wb') as file:\n",
        "    pickle.dump(tfidf, file)"
      ],
      "metadata": {
        "execution": {
          "iopub.status.busy": "2024-10-13T20:17:41.727447Z",
          "iopub.execute_input": "2024-10-13T20:17:41.727798Z",
          "iopub.status.idle": "2024-10-13T20:17:41.745492Z",
          "shell.execute_reply.started": "2024-10-13T20:17:41.727763Z",
          "shell.execute_reply": "2024-10-13T20:17:41.744543Z"
        },
        "trusted": true,
        "id": "97MVcbiyn98-"
      },
      "execution_count": null,
      "outputs": []
    }
  ]
}